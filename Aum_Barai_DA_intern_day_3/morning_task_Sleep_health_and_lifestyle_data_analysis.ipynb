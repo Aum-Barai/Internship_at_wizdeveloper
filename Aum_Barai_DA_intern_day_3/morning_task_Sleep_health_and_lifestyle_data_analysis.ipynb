{
 "cells": [
  {
   "cell_type": "markdown",
   "metadata": {},
   "source": [
    "### import library\n"
   ]
  },
  {
   "cell_type": "code",
   "execution_count": 7,
   "metadata": {},
   "outputs": [],
   "source": [
    "import pandas as pd\n",
    "import numpy as np\n",
    "from scipy.stats import f_oneway\n",
    "import matplotlib.pyplot as plt\n",
    "import seaborn as sns"
   ]
  },
  {
   "cell_type": "markdown",
   "metadata": {},
   "source": [
    "### Load the dataset"
   ]
  },
  {
   "cell_type": "code",
   "execution_count": 8,
   "metadata": {},
   "outputs": [],
   "source": [
    "data = pd.read_csv('Sleep_health_and_lifestyle_dataset.csv')"
   ]
  },
  {
   "cell_type": "code",
   "execution_count": 9,
   "metadata": {},
   "outputs": [
    {
     "data": {
      "text/html": [
       "<div>\n",
       "<style scoped>\n",
       "    .dataframe tbody tr th:only-of-type {\n",
       "        vertical-align: middle;\n",
       "    }\n",
       "\n",
       "    .dataframe tbody tr th {\n",
       "        vertical-align: top;\n",
       "    }\n",
       "\n",
       "    .dataframe thead th {\n",
       "        text-align: right;\n",
       "    }\n",
       "</style>\n",
       "<table border=\"1\" class=\"dataframe\">\n",
       "  <thead>\n",
       "    <tr style=\"text-align: right;\">\n",
       "      <th></th>\n",
       "      <th>Person ID</th>\n",
       "      <th>Gender</th>\n",
       "      <th>Age</th>\n",
       "      <th>Occupation</th>\n",
       "      <th>Sleep Duration</th>\n",
       "      <th>Quality of Sleep</th>\n",
       "      <th>Physical Activity Level</th>\n",
       "      <th>Stress Level</th>\n",
       "      <th>BMI Category</th>\n",
       "      <th>Blood Pressure</th>\n",
       "      <th>Heart Rate</th>\n",
       "      <th>Daily Steps</th>\n",
       "      <th>Sleep Disorder</th>\n",
       "    </tr>\n",
       "  </thead>\n",
       "  <tbody>\n",
       "    <tr>\n",
       "      <th>0</th>\n",
       "      <td>1</td>\n",
       "      <td>Male</td>\n",
       "      <td>27</td>\n",
       "      <td>Software Engineer</td>\n",
       "      <td>6.1</td>\n",
       "      <td>6</td>\n",
       "      <td>42</td>\n",
       "      <td>6</td>\n",
       "      <td>Overweight</td>\n",
       "      <td>126/83</td>\n",
       "      <td>77</td>\n",
       "      <td>4200</td>\n",
       "      <td>None</td>\n",
       "    </tr>\n",
       "    <tr>\n",
       "      <th>1</th>\n",
       "      <td>2</td>\n",
       "      <td>Male</td>\n",
       "      <td>28</td>\n",
       "      <td>Doctor</td>\n",
       "      <td>6.2</td>\n",
       "      <td>6</td>\n",
       "      <td>60</td>\n",
       "      <td>8</td>\n",
       "      <td>Normal</td>\n",
       "      <td>125/80</td>\n",
       "      <td>75</td>\n",
       "      <td>10000</td>\n",
       "      <td>None</td>\n",
       "    </tr>\n",
       "    <tr>\n",
       "      <th>2</th>\n",
       "      <td>3</td>\n",
       "      <td>Male</td>\n",
       "      <td>28</td>\n",
       "      <td>Doctor</td>\n",
       "      <td>6.2</td>\n",
       "      <td>6</td>\n",
       "      <td>60</td>\n",
       "      <td>8</td>\n",
       "      <td>Normal</td>\n",
       "      <td>125/80</td>\n",
       "      <td>75</td>\n",
       "      <td>10000</td>\n",
       "      <td>None</td>\n",
       "    </tr>\n",
       "    <tr>\n",
       "      <th>3</th>\n",
       "      <td>4</td>\n",
       "      <td>Male</td>\n",
       "      <td>28</td>\n",
       "      <td>Sales Representative</td>\n",
       "      <td>5.9</td>\n",
       "      <td>4</td>\n",
       "      <td>30</td>\n",
       "      <td>8</td>\n",
       "      <td>Obese</td>\n",
       "      <td>140/90</td>\n",
       "      <td>85</td>\n",
       "      <td>3000</td>\n",
       "      <td>Sleep Apnea</td>\n",
       "    </tr>\n",
       "    <tr>\n",
       "      <th>4</th>\n",
       "      <td>5</td>\n",
       "      <td>Male</td>\n",
       "      <td>28</td>\n",
       "      <td>Sales Representative</td>\n",
       "      <td>5.9</td>\n",
       "      <td>4</td>\n",
       "      <td>30</td>\n",
       "      <td>8</td>\n",
       "      <td>Obese</td>\n",
       "      <td>140/90</td>\n",
       "      <td>85</td>\n",
       "      <td>3000</td>\n",
       "      <td>Sleep Apnea</td>\n",
       "    </tr>\n",
       "  </tbody>\n",
       "</table>\n",
       "</div>"
      ],
      "text/plain": [
       "   Person ID Gender  Age            Occupation  Sleep Duration  \\\n",
       "0          1   Male   27     Software Engineer             6.1   \n",
       "1          2   Male   28                Doctor             6.2   \n",
       "2          3   Male   28                Doctor             6.2   \n",
       "3          4   Male   28  Sales Representative             5.9   \n",
       "4          5   Male   28  Sales Representative             5.9   \n",
       "\n",
       "   Quality of Sleep  Physical Activity Level  Stress Level BMI Category  \\\n",
       "0                 6                       42             6   Overweight   \n",
       "1                 6                       60             8       Normal   \n",
       "2                 6                       60             8       Normal   \n",
       "3                 4                       30             8        Obese   \n",
       "4                 4                       30             8        Obese   \n",
       "\n",
       "  Blood Pressure  Heart Rate  Daily Steps Sleep Disorder  \n",
       "0         126/83          77         4200           None  \n",
       "1         125/80          75        10000           None  \n",
       "2         125/80          75        10000           None  \n",
       "3         140/90          85         3000    Sleep Apnea  \n",
       "4         140/90          85         3000    Sleep Apnea  "
      ]
     },
     "execution_count": 9,
     "metadata": {},
     "output_type": "execute_result"
    }
   ],
   "source": [
    "### check the dataset\n",
    "data.head()\n"
   ]
  },
  {
   "cell_type": "code",
   "execution_count": 10,
   "metadata": {},
   "outputs": [
    {
     "data": {
      "text/plain": [
       "Person ID                  0\n",
       "Gender                     0\n",
       "Age                        0\n",
       "Occupation                 0\n",
       "Sleep Duration             0\n",
       "Quality of Sleep           0\n",
       "Physical Activity Level    0\n",
       "Stress Level               0\n",
       "BMI Category               0\n",
       "Blood Pressure             0\n",
       "Heart Rate                 0\n",
       "Daily Steps                0\n",
       "Sleep Disorder             0\n",
       "dtype: int64"
      ]
     },
     "execution_count": 10,
     "metadata": {},
     "output_type": "execute_result"
    }
   ],
   "source": [
    "# checking the dataset for missing values\n",
    "data.isnull().sum()"
   ]
  },
  {
   "cell_type": "markdown",
   "metadata": {},
   "source": [
    "## Define the research question:\n",
    "### Does the level of physical activity influence the quality of sleep among different occupations?\n",
    "\n",
    "## Hypotheses:\n",
    "### Null Hypothesis (H0): There is no difference in the quality of sleep based on the level of physical activity across different occupations.\n",
    "### Alternative Hypothesis (H1): The quality of sleep varies with the level of physical activity among different occupations.\n"
   ]
  },
  {
   "cell_type": "code",
   "execution_count": 15,
   "metadata": {},
   "outputs": [
    {
     "name": "stdout",
     "output_type": "stream",
     "text": [
      "ANOVA Results:\n",
      "Occupation           F-statistic     P-value        \n",
      "Software Engineer    6.25            0.12961        \n",
      "Doctor               55.78           0.00000        \n",
      "Teacher              0.00            0.95700        \n",
      "Nurse                8.10            0.00578        \n",
      "Engineer             68.64           0.00000        \n",
      "Accountant           18.28           0.00014        \n",
      "Scientist            inf             0.00000        \n",
      "Lawyer               3.26            0.07789        \n"
     ]
    },
    {
     "name": "stderr",
     "output_type": "stream",
     "text": [
      "C:\\Users\\Aumba\\AppData\\Roaming\\Python\\Python311\\site-packages\\scipy\\stats\\_stats_py.py:4167: ConstantInputWarning: Each of the input arrays is constant;the F statistic is not defined or infinite\n",
      "  warnings.warn(stats.ConstantInputWarning(msg))\n"
     ]
    }
   ],
   "source": [
    "# Segment data by occupation and categorize physical activity levels\n",
    "occupations = data['Occupation'].unique()\n",
    "activity_levels = pd.cut(data['Physical Activity Level'], bins=[0, 33, 66, 100], labels=['Low', 'Medium', 'High'])\n",
    "\n",
    "# Prepare data for ANOVA\n",
    "anova_results = {}\n",
    "for occupation in occupations:\n",
    "    occupation_data = data[data['Occupation'] == occupation]\n",
    "    grouped = occupation_data.groupby(activity_levels)['Quality of Sleep']\n",
    "    \n",
    "    # Collect groups for ANOVA\n",
    "    sleep_data = [group for name, group in grouped if not group.empty]\n",
    "    if len(sleep_data) > 1:\n",
    "        f_stat, p_value = f_oneway(*sleep_data)\n",
    "        anova_results[occupation] = (f_stat, p_value)\n",
    "\n",
    "# Output results\n",
    "print(\"ANOVA Results:\")\n",
    "print(\"{:<20} {:<15} {:<15}\".format(\"Occupation\", \"F-statistic\", \"P-value\"))\n",
    "for occupation, results in anova_results.items():\n",
    "    print(\"{:<20} {:<15.2f} {:<15.5f}\".format(occupation, results[0], results[1]))\n"
   ]
  },
  {
   "cell_type": "markdown",
   "metadata": {},
   "source": [
    "## Conclusion\n",
    "### The ANOVA analysis conducted on the dataset reveals significant insights into the relationship between physical activity levels and sleep quality across various occupations. The results are as follows:\n",
    "### Software Engineers, Teachers, and Lawyers showed no significant differences in sleep quality based on physical activity levels. This suggests that for these professions, factors other than physical activity might be more influential on sleep quality.\n",
    "### Doctors, Nurses, Engineers, Accountants, and Scientists demonstrated significant differences in sleep quality based on physical activity levels. For these groups, increasing physical activity could potentially enhance sleep quality.\n",
    "### Notably, the infinite F-statistic for Scientists indicates a potential anomaly or lack of variance within some activity level groups, which could skew the results. This warrants further investigation.\n",
    "### The findings underscore the importance of considering occupation-specific wellness programs that include physical activity components, particularly for those professions where a significant relationship was observed. However, it's crucial to consider other confounding factors and ensure data integrity and normal distribution for more definitive conclusions."
   ]
  }
 ],
 "metadata": {
  "kernelspec": {
   "display_name": "Python 3",
   "language": "python",
   "name": "python3"
  },
  "language_info": {
   "codemirror_mode": {
    "name": "ipython",
    "version": 3
   },
   "file_extension": ".py",
   "mimetype": "text/x-python",
   "name": "python",
   "nbconvert_exporter": "python",
   "pygments_lexer": "ipython3",
   "version": "3.11.8"
  }
 },
 "nbformat": 4,
 "nbformat_minor": 2
}

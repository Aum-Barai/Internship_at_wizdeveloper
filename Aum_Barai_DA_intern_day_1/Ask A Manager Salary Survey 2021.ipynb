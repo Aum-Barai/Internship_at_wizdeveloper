{
 "cells": [
  {
   "cell_type": "markdown",
   "id": "374c26ad",
   "metadata": {
    "papermill": {
     "duration": 0.010368,
     "end_time": "2024-05-03T14:58:01.565155",
     "exception": false,
     "start_time": "2024-05-03T14:58:01.554787",
     "status": "completed"
    },
    "tags": []
   },
   "source": [
    "## Import Libraries"
   ]
  },
  {
   "cell_type": "code",
   "execution_count": 121,
   "id": "6e7a79f0",
   "metadata": {
    "execution": {
     "iopub.execute_input": "2024-05-03T14:58:01.587017Z",
     "iopub.status.busy": "2024-05-03T14:58:01.586536Z",
     "iopub.status.idle": "2024-05-03T14:58:04.282884Z",
     "shell.execute_reply": "2024-05-03T14:58:04.281123Z"
    },
    "papermill": {
     "duration": 2.71117,
     "end_time": "2024-05-03T14:58:04.285786",
     "exception": false,
     "start_time": "2024-05-03T14:58:01.574616",
     "status": "completed"
    },
    "tags": []
   },
   "outputs": [],
   "source": [
    "import pandas as pd"
   ]
  },
  {
   "cell_type": "code",
   "execution_count": 122,
   "id": "fafccd66",
   "metadata": {
    "execution": {
     "iopub.execute_input": "2024-05-03T14:58:04.307395Z",
     "iopub.status.busy": "2024-05-03T14:58:04.306800Z",
     "iopub.status.idle": "2024-05-03T14:58:04.999551Z",
     "shell.execute_reply": "2024-05-03T14:58:04.998667Z"
    },
    "papermill": {
     "duration": 0.706887,
     "end_time": "2024-05-03T14:58:05.002021",
     "exception": false,
     "start_time": "2024-05-03T14:58:04.295134",
     "status": "completed"
    },
    "tags": []
   },
   "outputs": [
    {
     "data": {
      "text/html": [
       "<div>\n",
       "<style scoped>\n",
       "    .dataframe tbody tr th:only-of-type {\n",
       "        vertical-align: middle;\n",
       "    }\n",
       "\n",
       "    .dataframe tbody tr th {\n",
       "        vertical-align: top;\n",
       "    }\n",
       "\n",
       "    .dataframe thead th {\n",
       "        text-align: right;\n",
       "    }\n",
       "</style>\n",
       "<table border=\"1\" class=\"dataframe\">\n",
       "  <thead>\n",
       "    <tr style=\"text-align: right;\">\n",
       "      <th></th>\n",
       "      <th>Timestamp</th>\n",
       "      <th>Age Group</th>\n",
       "      <th>Industry</th>\n",
       "      <th>Job title</th>\n",
       "      <th>job context</th>\n",
       "      <th>annual salary</th>\n",
       "      <th>Bonus</th>\n",
       "      <th>currency</th>\n",
       "      <th>country</th>\n",
       "      <th>U.S State</th>\n",
       "      <th>City name</th>\n",
       "      <th>total professional work experience</th>\n",
       "      <th>professional work experience in field</th>\n",
       "      <th>highest level of education</th>\n",
       "      <th>gender</th>\n",
       "      <th>What is your race? (Choose all that apply.)</th>\n",
       "    </tr>\n",
       "  </thead>\n",
       "  <tbody>\n",
       "    <tr>\n",
       "      <th>0</th>\n",
       "      <td>4/27/2021 11:02</td>\n",
       "      <td>25-34</td>\n",
       "      <td>Education (Higher Education)</td>\n",
       "      <td>Research and Instruction Librarian</td>\n",
       "      <td>NaN</td>\n",
       "      <td>55,000</td>\n",
       "      <td>0.0</td>\n",
       "      <td>USD</td>\n",
       "      <td>United States</td>\n",
       "      <td>Massachusetts</td>\n",
       "      <td>Boston</td>\n",
       "      <td>5-7 years</td>\n",
       "      <td>5-7 years</td>\n",
       "      <td>Master's degree</td>\n",
       "      <td>Woman</td>\n",
       "      <td>White</td>\n",
       "    </tr>\n",
       "    <tr>\n",
       "      <th>1</th>\n",
       "      <td>4/27/2021 11:02</td>\n",
       "      <td>25-34</td>\n",
       "      <td>Computing or Tech</td>\n",
       "      <td>Change &amp; Internal Communications Manager</td>\n",
       "      <td>NaN</td>\n",
       "      <td>54,600</td>\n",
       "      <td>4000.0</td>\n",
       "      <td>GBP</td>\n",
       "      <td>United Kingdom</td>\n",
       "      <td>NaN</td>\n",
       "      <td>Cambridge</td>\n",
       "      <td>8 - 10 years</td>\n",
       "      <td>5-7 years</td>\n",
       "      <td>College degree</td>\n",
       "      <td>Non-binary</td>\n",
       "      <td>White</td>\n",
       "    </tr>\n",
       "    <tr>\n",
       "      <th>2</th>\n",
       "      <td>4/27/2021 11:02</td>\n",
       "      <td>25-34</td>\n",
       "      <td>Accounting, Banking &amp; Finance</td>\n",
       "      <td>Marketing Specialist</td>\n",
       "      <td>NaN</td>\n",
       "      <td>34,000</td>\n",
       "      <td>NaN</td>\n",
       "      <td>USD</td>\n",
       "      <td>US</td>\n",
       "      <td>Tennessee</td>\n",
       "      <td>Chattanooga</td>\n",
       "      <td>2 - 4 years</td>\n",
       "      <td>2 - 4 years</td>\n",
       "      <td>College degree</td>\n",
       "      <td>Woman</td>\n",
       "      <td>White</td>\n",
       "    </tr>\n",
       "    <tr>\n",
       "      <th>3</th>\n",
       "      <td>4/27/2021 11:02</td>\n",
       "      <td>25-34</td>\n",
       "      <td>Nonprofits</td>\n",
       "      <td>Program Manager</td>\n",
       "      <td>NaN</td>\n",
       "      <td>62,000</td>\n",
       "      <td>3000.0</td>\n",
       "      <td>USD</td>\n",
       "      <td>USA</td>\n",
       "      <td>Wisconsin</td>\n",
       "      <td>Milwaukee</td>\n",
       "      <td>8 - 10 years</td>\n",
       "      <td>5-7 years</td>\n",
       "      <td>College degree</td>\n",
       "      <td>Woman</td>\n",
       "      <td>White</td>\n",
       "    </tr>\n",
       "    <tr>\n",
       "      <th>4</th>\n",
       "      <td>4/27/2021 11:02</td>\n",
       "      <td>25-34</td>\n",
       "      <td>Accounting, Banking &amp; Finance</td>\n",
       "      <td>Accounting Manager</td>\n",
       "      <td>NaN</td>\n",
       "      <td>60,000</td>\n",
       "      <td>7000.0</td>\n",
       "      <td>USD</td>\n",
       "      <td>US</td>\n",
       "      <td>South Carolina</td>\n",
       "      <td>Greenville</td>\n",
       "      <td>8 - 10 years</td>\n",
       "      <td>5-7 years</td>\n",
       "      <td>College degree</td>\n",
       "      <td>Woman</td>\n",
       "      <td>White</td>\n",
       "    </tr>\n",
       "  </tbody>\n",
       "</table>\n",
       "</div>"
      ],
      "text/plain": [
       "         Timestamp Age Group                       Industry  \\\n",
       "0  4/27/2021 11:02     25-34   Education (Higher Education)   \n",
       "1  4/27/2021 11:02     25-34              Computing or Tech   \n",
       "2  4/27/2021 11:02     25-34  Accounting, Banking & Finance   \n",
       "3  4/27/2021 11:02     25-34                     Nonprofits   \n",
       "4  4/27/2021 11:02     25-34  Accounting, Banking & Finance   \n",
       "\n",
       "                                  Job title job context annual salary   Bonus  \\\n",
       "0        Research and Instruction Librarian         NaN        55,000     0.0   \n",
       "1  Change & Internal Communications Manager         NaN        54,600  4000.0   \n",
       "2                      Marketing Specialist         NaN        34,000     NaN   \n",
       "3                           Program Manager         NaN        62,000  3000.0   \n",
       "4                        Accounting Manager         NaN        60,000  7000.0   \n",
       "\n",
       "  currency         country       U.S State    City name  \\\n",
       "0      USD   United States   Massachusetts       Boston   \n",
       "1      GBP  United Kingdom             NaN    Cambridge   \n",
       "2      USD              US       Tennessee  Chattanooga   \n",
       "3      USD             USA       Wisconsin    Milwaukee   \n",
       "4      USD              US  South Carolina   Greenville   \n",
       "\n",
       "  total professional work experience professional work experience in field  \\\n",
       "0                          5-7 years                             5-7 years   \n",
       "1                       8 - 10 years                             5-7 years   \n",
       "2                        2 - 4 years                           2 - 4 years   \n",
       "3                       8 - 10 years                             5-7 years   \n",
       "4                       8 - 10 years                             5-7 years   \n",
       "\n",
       "  highest level of education      gender  \\\n",
       "0            Master's degree       Woman   \n",
       "1             College degree  Non-binary   \n",
       "2             College degree       Woman   \n",
       "3             College degree       Woman   \n",
       "4             College degree       Woman   \n",
       "\n",
       "  What is your race? (Choose all that apply.)  \n",
       "0                                       White  \n",
       "1                                       White  \n",
       "2                                       White  \n",
       "3                                       White  \n",
       "4                                       White  "
      ]
     },
     "execution_count": 122,
     "metadata": {},
     "output_type": "execute_result"
    }
   ],
   "source": [
    "data = pd.read_csv('Ask A Manager Salary Survey 2021 (Responses) - Form Responses 1.csv')\n",
    "data.head()"
   ]
  },
  {
   "cell_type": "code",
   "execution_count": 123,
   "id": "e4f8cea1",
   "metadata": {},
   "outputs": [
    {
     "data": {
      "text/html": [
       "<div>\n",
       "<style scoped>\n",
       "    .dataframe tbody tr th:only-of-type {\n",
       "        vertical-align: middle;\n",
       "    }\n",
       "\n",
       "    .dataframe tbody tr th {\n",
       "        vertical-align: top;\n",
       "    }\n",
       "\n",
       "    .dataframe thead th {\n",
       "        text-align: right;\n",
       "    }\n",
       "</style>\n",
       "<table border=\"1\" class=\"dataframe\">\n",
       "  <thead>\n",
       "    <tr style=\"text-align: right;\">\n",
       "      <th></th>\n",
       "      <th>Timestamp</th>\n",
       "      <th>Age Group</th>\n",
       "      <th>Industry</th>\n",
       "      <th>Job title</th>\n",
       "      <th>job context</th>\n",
       "      <th>annual salary</th>\n",
       "      <th>Bonus</th>\n",
       "      <th>currency</th>\n",
       "      <th>country</th>\n",
       "      <th>U.S State</th>\n",
       "      <th>City name</th>\n",
       "      <th>total professional work experience</th>\n",
       "      <th>professional work experience in field</th>\n",
       "      <th>highest level of education</th>\n",
       "      <th>gender</th>\n",
       "      <th>What is your race? (Choose all that apply.)</th>\n",
       "    </tr>\n",
       "  </thead>\n",
       "  <tbody>\n",
       "    <tr>\n",
       "      <th>count</th>\n",
       "      <td>28042</td>\n",
       "      <td>28042</td>\n",
       "      <td>27968</td>\n",
       "      <td>28041</td>\n",
       "      <td>7259</td>\n",
       "      <td>28042</td>\n",
       "      <td>2.075500e+04</td>\n",
       "      <td>28042</td>\n",
       "      <td>28042</td>\n",
       "      <td>23028</td>\n",
       "      <td>27964</td>\n",
       "      <td>28042</td>\n",
       "      <td>28042</td>\n",
       "      <td>27823</td>\n",
       "      <td>27872</td>\n",
       "      <td>27867</td>\n",
       "    </tr>\n",
       "    <tr>\n",
       "      <th>unique</th>\n",
       "      <td>8185</td>\n",
       "      <td>7</td>\n",
       "      <td>1219</td>\n",
       "      <td>14336</td>\n",
       "      <td>6996</td>\n",
       "      <td>4303</td>\n",
       "      <td>NaN</td>\n",
       "      <td>11</td>\n",
       "      <td>375</td>\n",
       "      <td>133</td>\n",
       "      <td>4822</td>\n",
       "      <td>8</td>\n",
       "      <td>8</td>\n",
       "      <td>6</td>\n",
       "      <td>5</td>\n",
       "      <td>49</td>\n",
       "    </tr>\n",
       "    <tr>\n",
       "      <th>top</th>\n",
       "      <td>4/27/2021 11:14</td>\n",
       "      <td>25-34</td>\n",
       "      <td>Computing or Tech</td>\n",
       "      <td>Software Engineer</td>\n",
       "      <td>Fundraising</td>\n",
       "      <td>60,000</td>\n",
       "      <td>NaN</td>\n",
       "      <td>USD</td>\n",
       "      <td>United States</td>\n",
       "      <td>California</td>\n",
       "      <td>Boston</td>\n",
       "      <td>11 - 20 years</td>\n",
       "      <td>11 - 20 years</td>\n",
       "      <td>College degree</td>\n",
       "      <td>Woman</td>\n",
       "      <td>White</td>\n",
       "    </tr>\n",
       "    <tr>\n",
       "      <th>freq</th>\n",
       "      <td>82</td>\n",
       "      <td>12646</td>\n",
       "      <td>4692</td>\n",
       "      <td>286</td>\n",
       "      <td>20</td>\n",
       "      <td>430</td>\n",
       "      <td>NaN</td>\n",
       "      <td>23362</td>\n",
       "      <td>8990</td>\n",
       "      <td>2610</td>\n",
       "      <td>772</td>\n",
       "      <td>9619</td>\n",
       "      <td>6533</td>\n",
       "      <td>13513</td>\n",
       "      <td>21359</td>\n",
       "      <td>23207</td>\n",
       "    </tr>\n",
       "    <tr>\n",
       "      <th>mean</th>\n",
       "      <td>NaN</td>\n",
       "      <td>NaN</td>\n",
       "      <td>NaN</td>\n",
       "      <td>NaN</td>\n",
       "      <td>NaN</td>\n",
       "      <td>NaN</td>\n",
       "      <td>1.816943e+04</td>\n",
       "      <td>NaN</td>\n",
       "      <td>NaN</td>\n",
       "      <td>NaN</td>\n",
       "      <td>NaN</td>\n",
       "      <td>NaN</td>\n",
       "      <td>NaN</td>\n",
       "      <td>NaN</td>\n",
       "      <td>NaN</td>\n",
       "      <td>NaN</td>\n",
       "    </tr>\n",
       "    <tr>\n",
       "      <th>std</th>\n",
       "      <td>NaN</td>\n",
       "      <td>NaN</td>\n",
       "      <td>NaN</td>\n",
       "      <td>NaN</td>\n",
       "      <td>NaN</td>\n",
       "      <td>NaN</td>\n",
       "      <td>8.342741e+05</td>\n",
       "      <td>NaN</td>\n",
       "      <td>NaN</td>\n",
       "      <td>NaN</td>\n",
       "      <td>NaN</td>\n",
       "      <td>NaN</td>\n",
       "      <td>NaN</td>\n",
       "      <td>NaN</td>\n",
       "      <td>NaN</td>\n",
       "      <td>NaN</td>\n",
       "    </tr>\n",
       "    <tr>\n",
       "      <th>min</th>\n",
       "      <td>NaN</td>\n",
       "      <td>NaN</td>\n",
       "      <td>NaN</td>\n",
       "      <td>NaN</td>\n",
       "      <td>NaN</td>\n",
       "      <td>NaN</td>\n",
       "      <td>0.000000e+00</td>\n",
       "      <td>NaN</td>\n",
       "      <td>NaN</td>\n",
       "      <td>NaN</td>\n",
       "      <td>NaN</td>\n",
       "      <td>NaN</td>\n",
       "      <td>NaN</td>\n",
       "      <td>NaN</td>\n",
       "      <td>NaN</td>\n",
       "      <td>NaN</td>\n",
       "    </tr>\n",
       "    <tr>\n",
       "      <th>25%</th>\n",
       "      <td>NaN</td>\n",
       "      <td>NaN</td>\n",
       "      <td>NaN</td>\n",
       "      <td>NaN</td>\n",
       "      <td>NaN</td>\n",
       "      <td>NaN</td>\n",
       "      <td>0.000000e+00</td>\n",
       "      <td>NaN</td>\n",
       "      <td>NaN</td>\n",
       "      <td>NaN</td>\n",
       "      <td>NaN</td>\n",
       "      <td>NaN</td>\n",
       "      <td>NaN</td>\n",
       "      <td>NaN</td>\n",
       "      <td>NaN</td>\n",
       "      <td>NaN</td>\n",
       "    </tr>\n",
       "    <tr>\n",
       "      <th>50%</th>\n",
       "      <td>NaN</td>\n",
       "      <td>NaN</td>\n",
       "      <td>NaN</td>\n",
       "      <td>NaN</td>\n",
       "      <td>NaN</td>\n",
       "      <td>NaN</td>\n",
       "      <td>2.000000e+03</td>\n",
       "      <td>NaN</td>\n",
       "      <td>NaN</td>\n",
       "      <td>NaN</td>\n",
       "      <td>NaN</td>\n",
       "      <td>NaN</td>\n",
       "      <td>NaN</td>\n",
       "      <td>NaN</td>\n",
       "      <td>NaN</td>\n",
       "      <td>NaN</td>\n",
       "    </tr>\n",
       "    <tr>\n",
       "      <th>75%</th>\n",
       "      <td>NaN</td>\n",
       "      <td>NaN</td>\n",
       "      <td>NaN</td>\n",
       "      <td>NaN</td>\n",
       "      <td>NaN</td>\n",
       "      <td>NaN</td>\n",
       "      <td>1.000000e+04</td>\n",
       "      <td>NaN</td>\n",
       "      <td>NaN</td>\n",
       "      <td>NaN</td>\n",
       "      <td>NaN</td>\n",
       "      <td>NaN</td>\n",
       "      <td>NaN</td>\n",
       "      <td>NaN</td>\n",
       "      <td>NaN</td>\n",
       "      <td>NaN</td>\n",
       "    </tr>\n",
       "    <tr>\n",
       "      <th>max</th>\n",
       "      <td>NaN</td>\n",
       "      <td>NaN</td>\n",
       "      <td>NaN</td>\n",
       "      <td>NaN</td>\n",
       "      <td>NaN</td>\n",
       "      <td>NaN</td>\n",
       "      <td>1.200000e+08</td>\n",
       "      <td>NaN</td>\n",
       "      <td>NaN</td>\n",
       "      <td>NaN</td>\n",
       "      <td>NaN</td>\n",
       "      <td>NaN</td>\n",
       "      <td>NaN</td>\n",
       "      <td>NaN</td>\n",
       "      <td>NaN</td>\n",
       "      <td>NaN</td>\n",
       "    </tr>\n",
       "  </tbody>\n",
       "</table>\n",
       "</div>"
      ],
      "text/plain": [
       "              Timestamp Age Group           Industry          Job title  \\\n",
       "count             28042     28042              27968              28041   \n",
       "unique             8185         7               1219              14336   \n",
       "top     4/27/2021 11:14     25-34  Computing or Tech  Software Engineer   \n",
       "freq                 82     12646               4692                286   \n",
       "mean                NaN       NaN                NaN                NaN   \n",
       "std                 NaN       NaN                NaN                NaN   \n",
       "min                 NaN       NaN                NaN                NaN   \n",
       "25%                 NaN       NaN                NaN                NaN   \n",
       "50%                 NaN       NaN                NaN                NaN   \n",
       "75%                 NaN       NaN                NaN                NaN   \n",
       "max                 NaN       NaN                NaN                NaN   \n",
       "\n",
       "        job context annual salary         Bonus currency        country  \\\n",
       "count          7259         28042  2.075500e+04    28042          28042   \n",
       "unique         6996          4303           NaN       11            375   \n",
       "top     Fundraising        60,000           NaN      USD  United States   \n",
       "freq             20           430           NaN    23362           8990   \n",
       "mean            NaN           NaN  1.816943e+04      NaN            NaN   \n",
       "std             NaN           NaN  8.342741e+05      NaN            NaN   \n",
       "min             NaN           NaN  0.000000e+00      NaN            NaN   \n",
       "25%             NaN           NaN  0.000000e+00      NaN            NaN   \n",
       "50%             NaN           NaN  2.000000e+03      NaN            NaN   \n",
       "75%             NaN           NaN  1.000000e+04      NaN            NaN   \n",
       "max             NaN           NaN  1.200000e+08      NaN            NaN   \n",
       "\n",
       "         U.S State City name total professional work experience  \\\n",
       "count        23028     27964                              28042   \n",
       "unique         133      4822                                  8   \n",
       "top     California    Boston                      11 - 20 years   \n",
       "freq          2610       772                               9619   \n",
       "mean           NaN       NaN                                NaN   \n",
       "std            NaN       NaN                                NaN   \n",
       "min            NaN       NaN                                NaN   \n",
       "25%            NaN       NaN                                NaN   \n",
       "50%            NaN       NaN                                NaN   \n",
       "75%            NaN       NaN                                NaN   \n",
       "max            NaN       NaN                                NaN   \n",
       "\n",
       "       professional work experience in field highest level of education  \\\n",
       "count                                  28042                      27823   \n",
       "unique                                     8                          6   \n",
       "top                            11 - 20 years             College degree   \n",
       "freq                                    6533                      13513   \n",
       "mean                                     NaN                        NaN   \n",
       "std                                      NaN                        NaN   \n",
       "min                                      NaN                        NaN   \n",
       "25%                                      NaN                        NaN   \n",
       "50%                                      NaN                        NaN   \n",
       "75%                                      NaN                        NaN   \n",
       "max                                      NaN                        NaN   \n",
       "\n",
       "       gender What is your race? (Choose all that apply.)  \n",
       "count   27872                                       27867  \n",
       "unique      5                                          49  \n",
       "top     Woman                                       White  \n",
       "freq    21359                                       23207  \n",
       "mean      NaN                                         NaN  \n",
       "std       NaN                                         NaN  \n",
       "min       NaN                                         NaN  \n",
       "25%       NaN                                         NaN  \n",
       "50%       NaN                                         NaN  \n",
       "75%       NaN                                         NaN  \n",
       "max       NaN                                         NaN  "
      ]
     },
     "execution_count": 123,
     "metadata": {},
     "output_type": "execute_result"
    }
   ],
   "source": [
    "data.describe(include='all')"
   ]
  },
  {
   "cell_type": "markdown",
   "id": "2d86ed4a",
   "metadata": {
    "papermill": {
     "duration": 0.009142,
     "end_time": "2024-05-03T14:58:05.021147",
     "exception": false,
     "start_time": "2024-05-03T14:58:05.012005",
     "status": "completed"
    },
    "tags": []
   },
   "source": [
    "# Check for missing values"
   ]
  },
  {
   "cell_type": "code",
   "execution_count": 124,
   "id": "719b6ed8",
   "metadata": {
    "execution": {
     "iopub.execute_input": "2024-05-03T14:58:05.042009Z",
     "iopub.status.busy": "2024-05-03T14:58:05.041568Z",
     "iopub.status.idle": "2024-05-03T14:58:05.108384Z",
     "shell.execute_reply": "2024-05-03T14:58:05.107156Z"
    },
    "papermill": {
     "duration": 0.080397,
     "end_time": "2024-05-03T14:58:05.110936",
     "exception": false,
     "start_time": "2024-05-03T14:58:05.030539",
     "status": "completed"
    },
    "tags": []
   },
   "outputs": [
    {
     "data": {
      "text/plain": [
       "Timestamp                                          0\n",
       "Age Group                                          0\n",
       "Industry                                          74\n",
       "Job title                                          1\n",
       "job context                                    20783\n",
       "annual salary                                      0\n",
       "Bonus                                           7287\n",
       "currency                                           0\n",
       "country                                            0\n",
       "U.S State                                       5014\n",
       "City name                                         78\n",
       "total professional work experience                 0\n",
       "professional work experience in field              0\n",
       "highest level of education                       219\n",
       "gender                                           170\n",
       "What is your race? (Choose all that apply.)      175\n",
       "dtype: int64"
      ]
     },
     "execution_count": 124,
     "metadata": {},
     "output_type": "execute_result"
    }
   ],
   "source": [
    "data.isna().sum()"
   ]
  },
  {
   "cell_type": "markdown",
   "id": "b56fa35b",
   "metadata": {
    "papermill": {
     "duration": 0.009263,
     "end_time": "2024-05-03T14:58:05.129816",
     "exception": false,
     "start_time": "2024-05-03T14:58:05.120553",
     "status": "completed"
    },
    "tags": []
   },
   "source": [
    "# Check the types"
   ]
  },
  {
   "cell_type": "code",
   "execution_count": 125,
   "id": "620e9b8a",
   "metadata": {
    "execution": {
     "iopub.execute_input": "2024-05-03T14:58:05.151414Z",
     "iopub.status.busy": "2024-05-03T14:58:05.151054Z",
     "iopub.status.idle": "2024-05-03T14:58:05.160299Z",
     "shell.execute_reply": "2024-05-03T14:58:05.159055Z"
    },
    "papermill": {
     "duration": 0.023425,
     "end_time": "2024-05-03T14:58:05.162701",
     "exception": false,
     "start_time": "2024-05-03T14:58:05.139276",
     "status": "completed"
    },
    "tags": []
   },
   "outputs": [
    {
     "data": {
      "text/plain": [
       "Timestamp                                       object\n",
       "Age Group                                       object\n",
       "Industry                                        object\n",
       "Job title                                       object\n",
       "job context                                     object\n",
       "annual salary                                   object\n",
       "Bonus                                          float64\n",
       "currency                                        object\n",
       "country                                         object\n",
       "U.S State                                       object\n",
       "City name                                       object\n",
       "total professional work experience              object\n",
       "professional work experience in field           object\n",
       "highest level of education                      object\n",
       "gender                                          object\n",
       "What is your race? (Choose all that apply.)     object\n",
       "dtype: object"
      ]
     },
     "execution_count": 125,
     "metadata": {},
     "output_type": "execute_result"
    }
   ],
   "source": [
    "data.dtypes"
   ]
  },
  {
   "cell_type": "markdown",
   "id": "0695c650",
   "metadata": {
    "papermill": {
     "duration": 0.009566,
     "end_time": "2024-05-03T14:58:15.941193",
     "exception": false,
     "start_time": "2024-05-03T14:58:15.931627",
     "status": "completed"
    },
    "tags": []
   },
   "source": [
    "### Converted the TimeStamp column to be in a standard format"
   ]
  },
  {
   "cell_type": "code",
   "execution_count": 126,
   "id": "adf4cffd",
   "metadata": {
    "execution": {
     "iopub.execute_input": "2024-05-03T14:58:05.216270Z",
     "iopub.status.busy": "2024-05-03T14:58:05.215886Z",
     "iopub.status.idle": "2024-05-03T14:58:15.918174Z",
     "shell.execute_reply": "2024-05-03T14:58:15.917044Z"
    },
    "papermill": {
     "duration": 10.716605,
     "end_time": "2024-05-03T14:58:15.921369",
     "exception": false,
     "start_time": "2024-05-03T14:58:05.204764",
     "status": "completed"
    },
    "tags": []
   },
   "outputs": [],
   "source": [
    "data[\"Timestamp\"] = pd.to_datetime(data.Timestamp , format='%m/%d/%Y %H:%M')"
   ]
  },
  {
   "cell_type": "markdown",
   "id": "98dfb619",
   "metadata": {},
   "source": [
    "### Drop columns with a significant amount of missing values and columns that are not needed"
   ]
  },
  {
   "cell_type": "code",
   "execution_count": 127,
   "id": "dc9970e5",
   "metadata": {},
   "outputs": [],
   "source": [
    "data = data.drop(columns=['Bonus', 'U.S State', 'job context'])"
   ]
  },
  {
   "cell_type": "markdown",
   "id": "5fff761f",
   "metadata": {},
   "source": [
    "### Fill missing values for categorical data with 'Unknown'"
   ]
  },
  {
   "cell_type": "code",
   "execution_count": 128,
   "id": "e79a714f",
   "metadata": {},
   "outputs": [],
   "source": [
    "data['Industry'] = data['Industry'].fillna('Unknown')\n",
    "data['Job title'] = data['Job title'].fillna('Unknown')\n",
    "data['City name'] = data['City name'].fillna('Unknown')\n",
    "data['highest level of education'] = data['highest level of education'].fillna('Unknown')\n",
    "data['gender'] = data['gender'].fillna('Unknown')\n",
    "data['What is your race? (Choose all that apply.)'] = data['What is your race? (Choose all that apply.)'].fillna('Unknown')"
   ]
  },
  {
   "cell_type": "markdown",
   "id": "58b51342",
   "metadata": {},
   "source": [
    "### Convert the categorical data to numerical data"
   ]
  },
  {
   "cell_type": "code",
   "execution_count": 129,
   "id": "ef4fb2e3",
   "metadata": {},
   "outputs": [],
   "source": [
    "data['annual salary'] = data['annual salary'].str.replace(',', '').astype(float)"
   ]
  },
  {
   "cell_type": "markdown",
   "id": "9a9ee7a1",
   "metadata": {},
   "source": [
    "### Convert the object data to categorical data"
   ]
  },
  {
   "cell_type": "code",
   "execution_count": 130,
   "id": "a8f69ecd",
   "metadata": {},
   "outputs": [],
   "source": [
    "categorical_columns = ['Age Group', 'Industry', 'Job title', 'currency', 'country', 'City name', 'highest level of education', 'gender', 'What is your race? (Choose all that apply.)']\n",
    "for col in categorical_columns:\n",
    "    data[col] = data[col].astype('category')"
   ]
  },
  {
   "cell_type": "code",
   "execution_count": 131,
   "id": "3f64293b",
   "metadata": {},
   "outputs": [
    {
     "name": "stdout",
     "output_type": "stream",
     "text": [
      "<class 'pandas.core.frame.DataFrame'>\n",
      "RangeIndex: 28042 entries, 0 to 28041\n",
      "Data columns (total 13 columns):\n",
      " #   Column                                       Non-Null Count  Dtype         \n",
      "---  ------                                       --------------  -----         \n",
      " 0   Timestamp                                    28042 non-null  datetime64[ns]\n",
      " 1   Age Group                                    28042 non-null  category      \n",
      " 2   Industry                                     28042 non-null  category      \n",
      " 3   Job title                                    28042 non-null  category      \n",
      " 4   annual salary                                28042 non-null  float64       \n",
      " 5   currency                                     28042 non-null  category      \n",
      " 6   country                                      28042 non-null  category      \n",
      " 7   City name                                    28042 non-null  category      \n",
      " 8   total professional work experience           28042 non-null  object        \n",
      " 9   professional work experience in field        28042 non-null  object        \n",
      " 10  highest level of education                   28042 non-null  category      \n",
      " 11  gender                                       28042 non-null  category      \n",
      " 12  What is your race? (Choose all that apply.)  28042 non-null  category      \n",
      "dtypes: category(9), datetime64[ns](1), float64(1), object(2)\n",
      "memory usage: 2.0+ MB\n"
     ]
    }
   ],
   "source": [
    "data.info()"
   ]
  },
  {
   "cell_type": "markdown",
   "id": "73fcb610",
   "metadata": {
    "papermill": {
     "duration": 0.010127,
     "end_time": "2024-05-03T14:58:16.036416",
     "exception": false,
     "start_time": "2024-05-03T14:58:16.026289",
     "status": "completed"
    },
    "tags": []
   },
   "source": [
    "## Top woking age Group"
   ]
  },
  {
   "cell_type": "code",
   "execution_count": 132,
   "id": "7e7dd6ed",
   "metadata": {
    "execution": {
     "iopub.execute_input": "2024-05-03T14:58:16.060921Z",
     "iopub.status.busy": "2024-05-03T14:58:16.059701Z",
     "iopub.status.idle": "2024-05-03T14:58:16.080377Z",
     "shell.execute_reply": "2024-05-03T14:58:16.079130Z"
    },
    "papermill": {
     "duration": 0.036035,
     "end_time": "2024-05-03T14:58:16.083237",
     "exception": false,
     "start_time": "2024-05-03T14:58:16.047202",
     "status": "completed"
    },
    "tags": []
   },
   "outputs": [
    {
     "name": "stdout",
     "output_type": "stream",
     "text": [
      "['25-34', '45-54', '35-44', '18-24', '65 or over', '55-64', 'under 18']\n",
      "Categories (7, object): ['18-24', '25-34', '35-44', '45-54', '55-64', '65 or over', 'under 18']\n",
      "Total number of age groups:-  7\n"
     ]
    }
   ],
   "source": [
    "#unique categories for product\n",
    "print(data[\"Age Group\"].unique())\n",
    "print(\"Total number of age groups:- \", data[\"Age Group\"].nunique())\n"
   ]
  },
  {
   "cell_type": "code",
   "execution_count": 133,
   "id": "f02064a5",
   "metadata": {
    "execution": {
     "iopub.execute_input": "2024-05-03T14:58:16.107989Z",
     "iopub.status.busy": "2024-05-03T14:58:16.107253Z",
     "iopub.status.idle": "2024-05-03T14:58:16.675185Z",
     "shell.execute_reply": "2024-05-03T14:58:16.673903Z"
    },
    "papermill": {
     "duration": 0.583343,
     "end_time": "2024-05-03T14:58:16.677908",
     "exception": false,
     "start_time": "2024-05-03T14:58:16.094565",
     "status": "completed"
    },
    "tags": []
   },
   "outputs": [
    {
     "name": "stdout",
     "output_type": "stream",
     "text": [
      "Top 3 woking age Group:\n",
      "25-34: 12646\n",
      "35-44: 9895\n",
      "45-54: 3188\n"
     ]
    }
   ],
   "source": [
    "age_group = data[\"Age Group\"].value_counts()\n",
    "print(\"Top 3 woking age Group:\")\n",
    "for category, count in age_group.head(3).items():\n",
    "    print(f\"{category}: {count}\")\n"
   ]
  },
  {
   "cell_type": "markdown",
   "id": "725fb285",
   "metadata": {
    "papermill": {
     "duration": 0.012046,
     "end_time": "2024-05-03T14:58:16.701379",
     "exception": false,
     "start_time": "2024-05-03T14:58:16.689333",
     "status": "completed"
    },
    "tags": []
   },
   "source": [
    "## What is the most common industry and job title"
   ]
  },
  {
   "cell_type": "code",
   "execution_count": 134,
   "id": "b9920eaa",
   "metadata": {},
   "outputs": [
    {
     "name": "stdout",
     "output_type": "stream",
     "text": [
      "Top 3 Most Common Industries:\n",
      "Computing or Tech               4692\n",
      "Education (Higher Education)    2463\n",
      "Nonprofits                      2418\n",
      "Name: Industry, dtype: int64\n",
      "\n",
      "Top 3 Most Common Job Titles:\n",
      "Software Engineer    286\n",
      "Project Manager      230\n",
      "Director             198\n",
      "Name: Job title, dtype: int64\n"
     ]
    }
   ],
   "source": [
    "top_industries = data['Industry'].value_counts().head(3)\n",
    "top_job_titles = data['Job title'].value_counts().head(3)\n",
    "\n",
    "print(\"Top 3 Most Common Industries:\")\n",
    "print(top_industries)\n",
    "\n",
    "print(\"\\nTop 3 Most Common Job Titles:\")\n",
    "print(top_job_titles)"
   ]
  },
  {
   "cell_type": "markdown",
   "id": "f290b791",
   "metadata": {
    "papermill": {
     "duration": 0.012025,
     "end_time": "2024-05-03T14:58:17.224902",
     "exception": false,
     "start_time": "2024-05-03T14:58:17.212877",
     "status": "completed"
    },
    "tags": []
   },
   "source": [
    "## top highest salary in USD"
   ]
  },
  {
   "cell_type": "code",
   "execution_count": 135,
   "id": "2a64e73a",
   "metadata": {},
   "outputs": [
    {
     "name": "stdout",
     "output_type": "stream",
     "text": [
      "\n",
      "Top 3 Highest Salaries in USD:\n",
      "index | annual salary\n",
      "3605     102000000.0\n",
      "28021     10000000.0\n",
      "26466      5000044.0\n",
      "Name: annual salary, dtype: float64\n"
     ]
    }
   ],
   "source": [
    "top_salaries = data[data['currency'] == 'USD'].nlargest(3, 'annual salary')\n",
    "top_salaries_usd = top_salaries['annual salary']\n",
    "\n",
    "print(\"\\nTop 3 Highest Salaries in USD:\")\n",
    "print(\"index | annual salary\")\n",
    "print(top_salaries_usd)\n"
   ]
  },
  {
   "cell_type": "markdown",
   "id": "61962e2e",
   "metadata": {
    "papermill": {
     "duration": 0.013371,
     "end_time": "2024-05-03T14:58:17.745146",
     "exception": false,
     "start_time": "2024-05-03T14:58:17.731775",
     "status": "completed"
    },
    "tags": []
   },
   "source": [
    "## Which industry has the highest average annual salary?"
   ]
  },
  {
   "cell_type": "code",
   "execution_count": 136,
   "id": "b27265ed",
   "metadata": {
    "execution": {
     "iopub.execute_input": "2024-05-03T14:58:17.773459Z",
     "iopub.status.busy": "2024-05-03T14:58:17.773004Z",
     "iopub.status.idle": "2024-05-03T14:58:17.780704Z",
     "shell.execute_reply": "2024-05-03T14:58:17.779887Z"
    },
    "papermill": {
     "duration": 0.025016,
     "end_time": "2024-05-03T14:58:17.783144",
     "exception": false,
     "start_time": "2024-05-03T14:58:17.758128",
     "status": "completed"
    },
    "tags": []
   },
   "outputs": [
    {
     "name": "stdout",
     "output_type": "stream",
     "text": [
      "The industry with the highest average annual salary is: ESL Teacher\n"
     ]
    }
   ],
   "source": [
    "industry_avg_salary = data.groupby('Industry')['annual salary'].mean()\n",
    "highest_avg_salary_industry = industry_avg_salary.idxmax()\n",
    "print(f\"The industry with the highest average annual salary is: {highest_avg_salary_industry}\")"
   ]
  },
  {
   "cell_type": "markdown",
   "id": "56a38f5a",
   "metadata": {},
   "source": [
    "### What is the distribution of salaries across different age groups?"
   ]
  },
  {
   "cell_type": "code",
   "execution_count": 137,
   "id": "6fd01c2e",
   "metadata": {
    "execution": {
     "iopub.execute_input": "2024-05-03T14:58:17.811302Z",
     "iopub.status.busy": "2024-05-03T14:58:17.810804Z",
     "iopub.status.idle": "2024-05-03T14:58:17.896829Z",
     "shell.execute_reply": "2024-05-03T14:58:17.895229Z"
    },
    "papermill": {
     "duration": 0.103165,
     "end_time": "2024-05-03T14:58:17.899567",
     "exception": false,
     "start_time": "2024-05-03T14:58:17.796402",
     "status": "completed"
    },
    "tags": []
   },
   "outputs": [
    {
     "name": "stdout",
     "output_type": "stream",
     "text": [
      "The distribution of salaries across different age groups is:\n",
      "              count           mean           std      min      25%      50%  \\\n",
      "Age Group                                                                     \n",
      "18-24        1213.0   66987.226711  2.897979e+05      0.0  35360.0  50000.0   \n",
      "25-34       12646.0  117637.691760  1.878065e+06      0.0  50500.0  70000.0   \n",
      "35-44        9895.0  125156.741890  1.391719e+06      0.0  60000.0  85000.0   \n",
      "45-54        3188.0  106381.834693  1.721370e+05      0.0  62000.0  88000.0   \n",
      "55-64         992.0  984084.531250  2.761987e+07     40.0  57000.0  83000.0   \n",
      "65 or over     94.0   94559.851064  5.439464e+04  13000.0  53500.0  91250.0   \n",
      "under 18       14.0  412390.571429  1.321731e+06      0.0  29640.0  37160.0   \n",
      "\n",
      "                 75%          max  \n",
      "Age Group                          \n",
      "18-24        70000.0   10000000.0  \n",
      "25-34        98000.0  180000000.0  \n",
      "35-44       120000.0  120000000.0  \n",
      "45-54       125000.0    8640000.0  \n",
      "55-64       120000.0  870000000.0  \n",
      "65 or over  120000.0     364000.0  \n",
      "under 18    104550.0    5000000.0  \n"
     ]
    }
   ],
   "source": [
    "age_group_salary_distribution = data.groupby('Age Group')['annual salary'].describe()\n",
    "print(\"The distribution of salaries across different age groups is:\")\n",
    "print(age_group_salary_distribution)"
   ]
  },
  {
   "cell_type": "markdown",
   "id": "0b76ff8b",
   "metadata": {
    "papermill": {
     "duration": 0.013484,
     "end_time": "2024-05-03T14:58:17.926969",
     "exception": false,
     "start_time": "2024-05-03T14:58:17.913485",
     "status": "completed"
    },
    "tags": []
   },
   "source": [
    "## How does the level of education impact the annual salary?"
   ]
  },
  {
   "cell_type": "code",
   "execution_count": 138,
   "id": "69a865d1",
   "metadata": {
    "execution": {
     "iopub.execute_input": "2024-05-03T14:58:17.955053Z",
     "iopub.status.busy": "2024-05-03T14:58:17.954623Z",
     "iopub.status.idle": "2024-05-03T14:58:18.062081Z",
     "shell.execute_reply": "2024-05-03T14:58:18.060759Z"
    },
    "papermill": {
     "duration": 0.124625,
     "end_time": "2024-05-03T14:58:18.064747",
     "exception": false,
     "start_time": "2024-05-03T14:58:17.940122",
     "status": "completed"
    },
    "tags": []
   },
   "outputs": [
    {
     "name": "stdout",
     "output_type": "stream",
     "text": [
      "The impact of the level of education on the annual salary is:\n",
      "highest level of education\n",
      "College degree                        170142.487235\n",
      "High School                            84643.439750\n",
      "Master's degree                       106106.792052\n",
      "PhD                                   241019.886396\n",
      "Professional degree (MD, JD, etc.)    156049.852608\n",
      "Some college                          127630.617248\n",
      "Unknown                               139965.735160\n",
      "Name: annual salary, dtype: float64\n"
     ]
    }
   ],
   "source": [
    "education_salary_impact = data.groupby('highest level of education')['annual salary'].mean()\n",
    "print(\"The impact of the level of education on the annual salary is:\")\n",
    "print(education_salary_impact)"
   ]
  },
  {
   "cell_type": "markdown",
   "id": "29b8fbe0",
   "metadata": {},
   "source": [
    "## differences in salary between genders"
   ]
  },
  {
   "cell_type": "code",
   "execution_count": 139,
   "id": "643da4e6",
   "metadata": {
    "execution": {
     "iopub.execute_input": "2024-05-03T14:58:18.095796Z",
     "iopub.status.busy": "2024-05-03T14:58:18.095402Z",
     "iopub.status.idle": "2024-05-03T14:58:18.103196Z",
     "shell.execute_reply": "2024-05-03T14:58:18.101940Z"
    },
    "papermill": {
     "duration": 0.027267,
     "end_time": "2024-05-03T14:58:18.106510",
     "exception": false,
     "start_time": "2024-05-03T14:58:18.079243",
     "status": "completed"
    },
    "tags": []
   },
   "outputs": [
    {
     "name": "stdout",
     "output_type": "stream",
     "text": [
      "The salary differences between genders are:\n",
      "gender\n",
      "Man                              203142.735283\n",
      "Non-binary                       100025.489933\n",
      "Other or prefer not to answer    232572.518519\n",
      "Prefer not to answer              88000.000000\n",
      "Unknown                          102079.505882\n",
      "Woman                            134141.188679\n",
      "Name: annual salary, dtype: float64\n"
     ]
    }
   ],
   "source": [
    "gender_salary_difference = data.groupby('gender')['annual salary'].mean()\n",
    "print(\"The salary differences between genders are:\")\n",
    "print(gender_salary_difference)"
   ]
  }
 ],
 "metadata": {
  "kaggle": {
   "accelerator": "none",
   "dataSources": [
    {
     "datasetId": 4916971,
     "sourceId": 8279739,
     "sourceType": "datasetVersion"
    }
   ],
   "dockerImageVersionId": 30698,
   "isGpuEnabled": false,
   "isInternetEnabled": true,
   "language": "python",
   "sourceType": "notebook"
  },
  "kernelspec": {
   "display_name": "Python 3",
   "language": "python",
   "name": "python3"
  },
  "language_info": {
   "codemirror_mode": {
    "name": "ipython",
    "version": 3
   },
   "file_extension": ".py",
   "mimetype": "text/x-python",
   "name": "python",
   "nbconvert_exporter": "python",
   "pygments_lexer": "ipython3",
   "version": "3.11.8"
  },
  "papermill": {
   "default_parameters": {},
   "duration": 21.162434,
   "end_time": "2024-05-03T14:58:19.492547",
   "environment_variables": {},
   "exception": null,
   "input_path": "__notebook__.ipynb",
   "output_path": "__notebook__.ipynb",
   "parameters": {},
   "start_time": "2024-05-03T14:57:58.330113",
   "version": "2.5.0"
  }
 },
 "nbformat": 4,
 "nbformat_minor": 5
}

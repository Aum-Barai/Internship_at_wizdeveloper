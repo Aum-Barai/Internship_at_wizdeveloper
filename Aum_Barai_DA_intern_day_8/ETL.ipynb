{
 "cells": [
  {
   "cell_type": "code",
   "execution_count": 1,
   "metadata": {},
   "outputs": [],
   "source": [
    "# load the necessary libraries\n",
    "import pandas as pd\n",
    "from sklearn.datasets import load_iris\n",
    "from sklearn.preprocessing import StandardScaler\n",
    "from sklearn.model_selection import train_test_split"
   ]
  },
  {
   "cell_type": "code",
   "execution_count": 2,
   "metadata": {},
   "outputs": [],
   "source": [
    "# Extract phase: Load the Iris dataset\n",
    "iris = load_iris()\n",
    "# Create a DataFrame with the feature data and column names\n",
    "iris_df = pd.DataFrame(data=iris.data, columns=iris.feature_names)\n",
    "# Add a new column for species, initially using the numeric target\n",
    "iris_df['species'] = iris.target"
   ]
  },
  {
   "cell_type": "code",
   "execution_count": 3,
   "metadata": {},
   "outputs": [],
   "source": [
    "# Transform phase: Prepare the data for machine learning\n",
    "# Normalize the features using StandardScaler\n",
    "scaler = StandardScaler()\n",
    "iris_df[iris.feature_names] = scaler.fit_transform(iris_df[iris.feature_names])"
   ]
  },
  {
   "cell_type": "code",
   "execution_count": 4,
   "metadata": {},
   "outputs": [],
   "source": [
    "# Map species from numerical to categorical names\n",
    "species_mapping = {0: 'setosa', 1: 'versicolor', 2: 'virginica'}\n",
    "iris_df['species'] = iris_df['species'].map(species_mapping)\n",
    "# Convert categorical species data into dummy/indicator variables\n",
    "iris_df = pd.get_dummies(iris_df, columns=['species'], prefix='type')"
   ]
  },
  {
   "cell_type": "code",
   "execution_count": 5,
   "metadata": {},
   "outputs": [],
   "source": [
    "# Split the dataset into training (80%) and testing (20%) sets\n",
    "train_df, test_df = train_test_split(iris_df, test_size=0.2, random_state=42)"
   ]
  },
  {
   "cell_type": "code",
   "execution_count": 8,
   "metadata": {},
   "outputs": [],
   "source": [
    "# Load phase: Save the transformed data to CSV files\n",
    "transformed_train_path = r'data/transformed_iris_train.csv'\n",
    "transformed_test_path = r'data/transformed_iris_test.csv'\n",
    "# Save training data without the index\n",
    "train_df.to_csv(transformed_train_path, index=False)\n",
    "# Save testing data without the index\n",
    "test_df.to_csv(transformed_test_path, index=False)"
   ]
  },
  {
   "cell_type": "code",
   "execution_count": 9,
   "metadata": {},
   "outputs": [
    {
     "data": {
      "text/plain": [
       "('data/transformed_iris_train.csv', 'data/transformed_iris_test.csv')"
      ]
     },
     "execution_count": 9,
     "metadata": {},
     "output_type": "execute_result"
    }
   ],
   "source": [
    "# Return paths to the saved files\n",
    "(transformed_train_path, transformed_test_path)"
   ]
  }
 ],
 "metadata": {
  "kernelspec": {
   "display_name": "Python 3",
   "language": "python",
   "name": "python3"
  },
  "language_info": {
   "codemirror_mode": {
    "name": "ipython",
    "version": 3
   },
   "file_extension": ".py",
   "mimetype": "text/x-python",
   "name": "python",
   "nbconvert_exporter": "python",
   "pygments_lexer": "ipython3",
   "version": "3.11.8"
  }
 },
 "nbformat": 4,
 "nbformat_minor": 2
}
